{
 "cells": [
  {
   "cell_type": "markdown",
   "metadata": {},
   "source": [
    "# Outline\n",
    "\n",
    "1. A linear regression example\n",
    "    - Declare variables in tensorflow\n",
    "    - Run session\n",
    "    - Extract results\n",
    "2. A non-linear regression example\n",
    "    - Add layers\n",
    "    - Visualize results\n",
    "3. Tensorboard\n",
    "    - Visualize your neural network\n",
    "    - Collect summaries during training\n",
    "    \n",
    "Ref:\n",
    "\n",
    "- [A series of vedios](https://morvanzhou.github.io/tutorials/machine-learning/tensorflow/)"
   ]
  },
  {
   "cell_type": "markdown",
   "metadata": {},
   "source": [
    "# 1. A linear regression example\n",
    "\n",
    "First we consider building a simple linear regression model with $N$ data samples:\n",
    "$$\n",
    "\\begin{aligned}\n",
    "Y = X\\beta + \\alpha + \\epsilon,\n",
    "\\end{aligned}\n",
    "$$\n",
    "where:\n",
    "\n",
    "- $Y\\in \\mathbb{R}^{N}$ is the response\n",
    "- $X\\in \\mathbb{R}^{N}$ is the only covatiate\n",
    "- $\\alpha$ and $\\beta$ are the regression coefficients\n",
    "- $\\epsilon$ is the noise"
   ]
  },
  {
   "cell_type": "code",
   "execution_count": 1,
   "metadata": {
    "collapsed": true
   },
   "outputs": [],
   "source": [
    "# import libraries\n",
    "import tensorflow as tf\n",
    "import numpy as np"
   ]
  },
  {
   "cell_type": "markdown",
   "metadata": {},
   "source": [
    "Create the data for training. Here we consider $\\alpha=0.3$ and $\\beta=0.1$. That is, the model would be $Y=0.1X+0.3$."
   ]
  },
  {
   "cell_type": "code",
   "execution_count": 2,
   "metadata": {
    "collapsed": true
   },
   "outputs": [],
   "source": [
    "# number of data samples\n",
    "N = 100\n",
    "alpha = 0.3\n",
    "beta = 0.1\n",
    "\n",
    "# create data for Y = 0.1X + 0.3\n",
    "x_data = np.random.rand(N)\n",
    "y_data = x_data*beta + alpha"
   ]
  },
  {
   "cell_type": "markdown",
   "metadata": {},
   "source": [
    "Next we would feed these data into the tensorflow structure. These include:\n",
    "\n",
    "- Declare variables\n",
    "- Setup optimization object function and optimizer\n",
    "- Run and get results"
   ]
  },
  {
   "cell_type": "code",
   "execution_count": 3,
   "metadata": {
    "collapsed": true
   },
   "outputs": [],
   "source": [
    "# declare variables\n",
    "beta = tf.Variable(tf.random_uniform([1], -1.0, 1.0))\n",
    "alpha = tf.Variable(tf.zeros([1]))"
   ]
  },
  {
   "cell_type": "markdown",
   "metadata": {},
   "source": [
    "Now we have two tensorflow variables: *alpha* and *beta*. We also specify the the methods of initializing these two variables:\n",
    "\n",
    "**tf.random_uniform([1], -1.0, 1.0)** would return an array of random number with length 1 from a uniform distribution between -1 nad 1. This first argument specify the number of random number would be generated. \n",
    "\n",
    "**tf.zeros([1])** would return an array of zeros with length 1.\n"
   ]
  },
  {
   "cell_type": "code",
   "execution_count": 4,
   "metadata": {
    "collapsed": true
   },
   "outputs": [],
   "source": [
    "# relation between input and output\n",
    "y_hat = x_data*beta + alpha\n",
    "\n",
    "# loss function\n",
    "loss = tf.reduce_mean(tf.square(y_hat-y_data))"
   ]
  },
  {
   "cell_type": "markdown",
   "metadata": {},
   "source": [
    "During training stage, Tensorflow would update **alpha** and **beta**. And we are trying to minimize the loss, where loss is mean squared error:\n",
    "$$\n",
    "\\begin{aligned}\n",
    "loss = \\frac{1}{N}\\sum_{n=1}^N (\\hat{y}_n-y_n)^2\n",
    "\\end{aligned}\n",
    "$$"
   ]
  },
  {
   "cell_type": "code",
   "execution_count": 5,
   "metadata": {
    "collapsed": true
   },
   "outputs": [],
   "source": [
    "# create optimizer, set step size to be 0.5\n",
    "optimizer = tf.train.GradientDescentOptimizer(0.5) \n",
    "\n",
    "# The object fuction is to minimize the mean squared loss\n",
    "obj = optimizer.minimize(loss)"
   ]
  },
  {
   "cell_type": "markdown",
   "metadata": {},
   "source": [
    "With all of the tensorflow structure ready, we can start to traing our model:\n",
    "\n",
    "- Initialization\n",
    "- Create and run codes using session\n",
    "- Get results"
   ]
  },
  {
   "cell_type": "code",
   "execution_count": 6,
   "metadata": {},
   "outputs": [
    {
     "name": "stdout",
     "output_type": "stream",
     "text": [
      "Step:0, alpha:0.649393, beta:-0.217745\n",
      "Step:20, alpha:0.362950, beta:-0.017989\n",
      "Step:40, alpha:0.318926, beta:0.064527\n",
      "Step:60, alpha:0.305690, beta:0.089335\n",
      "Step:80, alpha:0.301711, beta:0.096794\n",
      "Step:100, alpha:0.300514, beta:0.099036\n",
      "Step:120, alpha:0.300155, beta:0.099710\n",
      "Step:140, alpha:0.300046, beta:0.099913\n",
      "Step:160, alpha:0.300014, beta:0.099974\n",
      "Step:180, alpha:0.300004, beta:0.099992\n",
      "Step:200, alpha:0.300001, beta:0.099998\n"
     ]
    }
   ],
   "source": [
    "# initializer\n",
    "init = tf.global_variables_initializer()\n",
    "\n",
    "# create a session\n",
    "sess = tf.Session()\n",
    "\n",
    "# run the initializer\n",
    "sess.run(init)\n",
    "\n",
    "# run optimization and print results\n",
    "for step in range(201):\n",
    "    sess.run(obj)\n",
    "    if step % 20 == 0:\n",
    "        print(\"Step:%d, alpha:%f, beta:%f\" % \n",
    "              (step, sess.run(alpha), sess.run(beta)))\n",
    "sess.close()"
   ]
  },
  {
   "cell_type": "markdown",
   "metadata": {},
   "source": [
    "## Two ways of using session\n",
    "\n",
    "Method 1 is just he code we have seen above. Remember to close the session with **sess.close()**.\n",
    "\n",
    "Method 2 uses the **with** statement. You should get the same results."
   ]
  },
  {
   "cell_type": "code",
   "execution_count": 7,
   "metadata": {},
   "outputs": [
    {
     "name": "stdout",
     "output_type": "stream",
     "text": [
      "Step:0, alpha:0.375403, beta:0.162019\n",
      "Step:20, alpha:0.297714, beta:0.104116\n",
      "Step:40, alpha:0.299389, beta:0.101100\n",
      "Step:60, alpha:0.299837, beta:0.100294\n",
      "Step:80, alpha:0.299956, beta:0.100079\n",
      "Step:100, alpha:0.299988, beta:0.100021\n",
      "Step:120, alpha:0.299997, beta:0.100006\n",
      "Step:140, alpha:0.299999, beta:0.100001\n",
      "Step:160, alpha:0.300000, beta:0.100000\n",
      "Step:180, alpha:0.300000, beta:0.100000\n",
      "Step:200, alpha:0.300000, beta:0.100000\n"
     ]
    }
   ],
   "source": [
    "with tf.Session() as sess:\n",
    "    sess.run(init)\n",
    "    for step in range(201):\n",
    "        sess.run(obj)\n",
    "        if step % 20 == 0:\n",
    "            print(\"Step:%d, alpha:%f, beta:%f\" % \n",
    "                  (step, sess.run(alpha), sess.run(beta)))"
   ]
  },
  {
   "cell_type": "markdown",
   "metadata": {},
   "source": [
    "## Placeholder\n",
    "\n",
    "There is a special type of variable called placeholder. This allows you to construct the network first and feed the data afterwards."
   ]
  },
  {
   "cell_type": "code",
   "execution_count": 8,
   "metadata": {},
   "outputs": [
    {
     "name": "stdout",
     "output_type": "stream",
     "text": [
      "Output:14.000000\n"
     ]
    }
   ],
   "source": [
    "input1 = tf.placeholder(tf.float32)\n",
    "input2 = tf.placeholder(tf.float32)\n",
    "\n",
    "output = tf.multiply(input1, input2)\n",
    "\n",
    "with tf.Session() as sess:\n",
    "    print(\"Output:%f\" % sess.run(output, \n",
    "                                feed_dict={input1:[7], input2:[2]}))"
   ]
  },
  {
   "cell_type": "markdown",
   "metadata": {},
   "source": [
    "Compare these two lines\n",
    "```python\n",
    "y_hat = x_data*beta + alpha\n",
    "output = tf.multiply(input1, input2)\n",
    "```\n",
    "The first line comes from the linear regression example. In this line, the value of **x_data** is predetermined. However, the value of **input1** and **input2** are not unkown until we feed the data when running the session. With placeholder, we could feed different data to the same network without defining the tensorflow structure again. "
   ]
  },
  {
   "cell_type": "markdown",
   "metadata": {},
   "source": [
    "# 2. A non-linear regression example\n",
    "\n",
    "In this example, we would consider a quadratic realtion between $X$ and $Y$. Several key factors in this example:\n",
    "\n",
    "- A function for adding layers\n",
    "- Use placeholder for flexibility"
   ]
  },
  {
   "cell_type": "markdown",
   "metadata": {},
   "source": [
    "## The *add_layer* function"
   ]
  },
  {
   "cell_type": "code",
   "execution_count": 9,
   "metadata": {
    "collapsed": true
   },
   "outputs": [],
   "source": [
    "def add_layer(x, in_size, out_size, activation_function=None):\n",
    "    W = tf.Variable(tf.random_normal([in_size, out_size]))\n",
    "    # it is recommended not initialize not to zero\n",
    "    b = tf.Variable(tf.zeros([1, out_size]) + 0.1) \n",
    "    Wx_b = tf.matmul(x, W) + b\n",
    "    \n",
    "    if activation_function is None:\n",
    "        output = Wx_b\n",
    "    else:\n",
    "        output = activation_function(Wx_b)\n",
    "        \n",
    "    return output"
   ]
  },
  {
   "cell_type": "markdown",
   "metadata": {},
   "source": [
    "What does the function do:\n",
    "- Create a layer with input length = *in_size*, output length = *out_size*.\n",
    "- If specified, the activation function would be applied on the results."
   ]
  },
  {
   "cell_type": "code",
   "execution_count": 10,
   "metadata": {
    "collapsed": true
   },
   "outputs": [],
   "source": [
    "# generate data samples\n",
    "N = 300\n",
    "x_data = np.linspace(-1, 1, N)[:, np.newaxis]\n",
    "y_data = np.square(x_data) - 0.87 \\\n",
    "            + np.random.normal(0, 0.05, x_data.shape)"
   ]
  },
  {
   "cell_type": "markdown",
   "metadata": {},
   "source": [
    "Here we generate our data $X$from -1 to 1. By using *[:, np.newaxis]*, we would obtain *x_data* as an array with shape (N, 1). Data $Y$ is generated according to the relationship:\n",
    "$$\n",
    "\\begin{aligned}\n",
    "Y = X^2 - 0.87 + \\epsilon\n",
    "\\end{aligned}\n",
    "$$\n",
    "Note that we are still using linear function inside the neural network and we will see how neural network combines several linear functions and activation functions to approximate a non-linear relationship."
   ]
  },
  {
   "cell_type": "code",
   "execution_count": 11,
   "metadata": {
    "collapsed": true
   },
   "outputs": [],
   "source": [
    "# placeholder for the tensorflow\n",
    "x_input = tf.placeholder(tf.float32, [None, 1])\n",
    "y_input = tf.placeholder(tf.float32, [None, 1])\n",
    "\n",
    "layer1_output_size = 10\n",
    "layer1 = add_layer(x_input, 1, layer1_output_size, \n",
    "                   activation_function=tf.nn.relu)\n",
    "y_hat = add_layer(layer1, layer1_output_size, 1, activation_function=None)"
   ]
  },
  {
   "cell_type": "markdown",
   "metadata": {},
   "source": [
    "Now we consider there are 10 neurons in the hidden layer (*layer1*). Thus, for *layer1*, the input size is 1 and the ouptput size is 10. The output of *layer1* would serve as the input of the output layer. Thus, the input size is 10 and the final output is the predicted value (*y_hat*) with size 1."
   ]
  },
  {
   "cell_type": "code",
   "execution_count": 12,
   "metadata": {
    "collapsed": true
   },
   "outputs": [],
   "source": [
    "# loss function and optimizer\n",
    "loss = tf.reduce_mean(tf.square(y_hat-y_input))\n",
    "\n",
    "# optimization object function\n",
    "obj = tf.train.GradientDescentOptimizer(0.1).minimize(loss)"
   ]
  },
  {
   "cell_type": "markdown",
   "metadata": {},
   "source": [
    "Like the linear regression example, we adopt mean squared error as the loss function and create a optimizer for minimization."
   ]
  },
  {
   "cell_type": "code",
   "execution_count": 13,
   "metadata": {},
   "outputs": [
    {
     "name": "stdout",
     "output_type": "stream",
     "text": [
      "Step:0, loss:0.309368\n",
      "Step:100, loss:0.008168\n",
      "Step:200, loss:0.006041\n",
      "Step:300, loss:0.005412\n",
      "Step:400, loss:0.005126\n",
      "Step:500, loss:0.004926\n",
      "Step:600, loss:0.004782\n",
      "Step:700, loss:0.004659\n",
      "Step:800, loss:0.004562\n",
      "Step:900, loss:0.004472\n",
      "Step:1000, loss:0.004394\n"
     ]
    }
   ],
   "source": [
    "# initializer\n",
    "init = tf.global_variables_initializer()\n",
    "\n",
    "# start a session to run\n",
    "with tf.Session() as sess:\n",
    "    sess.run(init)\n",
    "    for step in range(1001):\n",
    "        sess.run(obj, feed_dict={x_input: x_data, \n",
    "                                 y_input: y_data})\n",
    "        if step % 100 == 0:\n",
    "            print(\"Step:%d, loss:%f\" % \n",
    "                  (step, sess.run(loss, \n",
    "                                  feed_dict={x_input: x_data, \n",
    "                                             y_input: y_data})))\n",
    "            \n",
    "    # obtain the final y_hat\n",
    "    y_hat = sess.run(y_hat, feed_dict={x_input: x_data,\n",
    "                                       y_input: y_data})\n",
    "            "
   ]
  },
  {
   "cell_type": "markdown",
   "metadata": {},
   "source": [
    "Recall that we use placeholder *x_input* and *y_input* when construsting the neural network. Now we have to feed in the data using *feed\\_dict*. Note that when extracting the value of *loss*, we should provide *feed\\_dict* as well."
   ]
  },
  {
   "cell_type": "code",
   "execution_count": 14,
   "metadata": {},
   "outputs": [
    {
     "data": {
      "image/png": "[encoded data removed]",
      "text/plain": [
       "<matplotlib.figure.Figure at 0x117c87c10>"
      ]
     },
     "metadata": {},
     "output_type": "display_data"
    }
   ],
   "source": [
    "# a quick visualization\n",
    "import matplotlib.pyplot as plt\n",
    "fig = plt.figure()\n",
    "plt.subplot(111)\n",
    "plt.scatter(x_data, y_data)\n",
    "plt.plot(x_data, y_hat, 'r-', lw=5)\n",
    "plt.show()"
   ]
  },
  {
   "cell_type": "markdown",
   "metadata": {},
   "source": [
    "Note: If you get a bad results or the values cannot converge, try to change the step size of the gradient descent optimizer. Step size = 0.1 should be fine in this example."
   ]
  },
  {
   "cell_type": "markdown",
   "metadata": {},
   "source": [
    "# 3. Visualization using tensorboard"
   ]
  },
  {
   "cell_type": "markdown",
   "metadata": {},
   "source": [
    "Tensorboard is a useful tool for checking and visualizing your learning procedures. We would consider two useful information tensorboard could provid:\n",
    "\n",
    "- Viasualize your neural network graph\n",
    "- Obtain summaries from the training procedure\n",
    "\n",
    "For more details, check https://www.tensorflow.org/get_started/summaries_and_tensorboard\n",
    "\n"
   ]
  },
  {
   "cell_type": "markdown",
   "metadata": {},
   "source": [
    "Creating a graph of the neural network is simple. You just have to name all the variables accordingly and tensorboard would automatically generate the graph for you.\n",
    "\n",
    "Extracting the summaries during the learning procedure is just as simple as creating the graph: you specify which variables you are interested in and tensorboard will do the rest."
   ]
  },
  {
   "cell_type": "code",
   "execution_count": 15,
   "metadata": {
    "collapsed": true
   },
   "outputs": [],
   "source": [
    "import tensorflow as tf\n",
    "import numpy as np\n",
    "def add_named_layer(x, in_size, out_size, n_layer, activation_function=None):\n",
    "    layer_name = \"layer%s\" % n_layer\n",
    "    with tf.name_scope(layer_name):\n",
    "        with tf.name_scope(\"W\"):\n",
    "            W = tf.Variable(tf.random_normal([in_size, out_size]), name=\"W\")\n",
    "            tf.summary.histogram(layer_name+\"/W\", W)\n",
    "        with tf.name_scope(\"b\"):\n",
    "            b = tf.Variable(tf.zeros([1, out_size]) + 0.1, name=\"b\") \n",
    "            tf.summary.histogram(layer_name+\"/b\", b)\n",
    "        with tf.name_scope(\"Wx_b\"):\n",
    "            Wx_b = tf.add(tf.matmul(x, W), b)\n",
    "\n",
    "        if activation_function is None:\n",
    "            output = Wx_b\n",
    "        else:\n",
    "            output = activation_function(Wx_b)\n",
    "            tf.summary.histogram(layer_name+\"/output\", output)\n",
    "\n",
    "        return output"
   ]
  },
  {
   "cell_type": "markdown",
   "metadata": {},
   "source": [
    "Now we create a new function called *add_named_layer*. The function is slightly different from the previous one: you need to provide a number for nameing the layer.\n",
    "\n",
    "The code\n",
    "\n",
    "```python\n",
    "with tf.name_scope(your_scope_name):\n",
    "```\n",
    "\n",
    "tells tensorboard how do you want to call the container and the objects within the *with* statement would be included inside the container.\n",
    "\n",
    "This is how *layer1* looks like\n",
    "![Image of layer 1](figs/01_tensorboard_layer.png)\n",
    "\n",
    "\n",
    "To collect learning summaries, we use\n",
    "```python\n",
    "tf.summary.histogram(histogram_name, variable_name)\n",
    "```\n",
    "Note that we use **tf.summary.histogram** for vectors. As for scalar, we would use **tf.summary.scalar**. We will see this in a minute."
   ]
  },
  {
   "cell_type": "code",
   "execution_count": 16,
   "metadata": {
    "collapsed": true
   },
   "outputs": [],
   "source": [
    "N = 300\n",
    "x_data = np.linspace(-1, 1, N)[:, np.newaxis]\n",
    "y_data = np.square(x_data) - 0.87 \\\n",
    "            + np.random.normal(0, 0.05, x_data.shape)\n",
    "with tf.name_scope(\"inputs\"):\n",
    "    x_input = tf.placeholder(tf.float32, [None, 1], name=\"x_input\")\n",
    "    y_input = tf.placeholder(tf.float32, [None, 1], name=\"y_input\")\n",
    "\n",
    "layer1 = add_named_layer(x_input, 1, 10, n_layer=1, activation_function=tf.nn.relu)\n",
    "prediction = add_named_layer(layer1, 10, 1, n_layer=2, activation_function=None)\n",
    "\n",
    "with tf.name_scope(\"loss\"):\n",
    "    loss = tf.reduce_mean(tf.reduce_sum(tf.square(y_input - prediction), \n",
    "                         reduction_indices=[1]))\n",
    "    tf.summary.scalar(\"loss\", loss)\n",
    "with tf.name_scope(\"train\"):\n",
    "    obj = tf.train.GradientDescentOptimizer(0.1).minimize(loss)\n",
    "\n",
    "    \n",
    "sess = tf.Session()\n",
    "init = tf.global_variables_initializer()\n",
    "merged = tf.summary.merge_all()\n",
    "writer = tf.summary.FileWriter(\"logs/\", sess.graph)\n",
    "\n",
    "\n",
    "sess.run(init)\n",
    "\n",
    "for i in range(1000):\n",
    "    sess.run(obj, \n",
    "            feed_dict={x_input: x_data, y_input: y_data})\n",
    "    if i % 50 == 0:\n",
    "        result = sess.run(merged, feed_dict={x_input: x_data, y_input: y_data})    \n",
    "        writer.add_summary(result, i)"
   ]
  },
  {
   "cell_type": "markdown",
   "metadata": {},
   "source": [
    "**Note: you might want to reset python kernel if you encounter errors**\n",
    "\n",
    "Most of the codes are simiar, we just have to add several lines to finish the neural network structure and collect the summaries.\n",
    "\n",
    "When everthing is all set, we want to merge every result. This includes graph and summaries. This is done by \n",
    "\n",
    "```python\n",
    "merged = tf.summary.merge_all()\n",
    "```\n",
    "\n",
    "We also need a filewriter provided by tensorflow:\n",
    "```python\n",
    "writer = tf.summary.FileWriter(\"logs/\", sess.graph)\n",
    "```\n",
    "This would create a file writer and the collected information would be written in the folder named *logs*. The neural network graph is passed using *sess.graph*.\n",
    "\n",
    "Finally, we run tensorflow as usual and collect summaries using\n",
    "\n",
    "```python\n",
    "writer.add_summary(result, i)\n",
    "```\n",
    "\n",
    "### Launch tensorboard\n",
    "\n",
    "To launch tensorboard, open a terminal and change directory to the parent path where you save the information. In our example if the folder *logs* located under *~/*, then we will do\n",
    "\n",
    "```shell\n",
    "cd ~/\n",
    "tensorboard --logdir='logs/'\n",
    "\n",
    "```\n",
    "Next, open your browser and type in *http://localhost:6006/*. You can see the information collected by tensorflow."
   ]
  }
 ],
 "metadata": {
  "kernelspec": {
   "display_name": "tf_kernel",
   "language": "python",
   "name": "tf_kernel"
  },
  "language_info": {
   "codemirror_mode": {
    "name": "ipython",
    "version": 2
   },
   "file_extension": ".py",
   "mimetype": "text/x-python",
   "name": "python",
   "nbconvert_exporter": "python",
   "pygments_lexer": "ipython2",
   "version": "2.7.13"
  }
 },
 "nbformat": 4,
 "nbformat_minor": 2
}
