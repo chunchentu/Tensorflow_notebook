{
 "cells": [
  {
   "cell_type": "markdown",
   "metadata": {},
   "source": [
    "# Some information and resources\n",
    "- IPython (interactive) and Jupyter(notebok for noting and sharing)\n",
    "    - Good thing about Jupyter: integrate code and document(markdown/html/latex). \n",
    "    \n",
    "    Ex. $softmax(x_i) = \\frac{\\exp^{x_i}}{\\sum_{k=1}^K \\exp^{x_k}}$\n",
    "    - Jupyter shortcut keys: https://www.dataquest.io/blog/jupyter-notebook-tips-tricks-shortcuts/\n",
    "\n",
    "\n",
    "- Tensorflow and Virtual environment:  https://www.tensorflow.org/install/install_mac\n",
    "\n",
    "\n",
    "- Using Jupyter under virtualenv: http://help.pythonanywhere.com/pages/IPythonNotebookVirtualenvs\n",
    "    - Activate your virtual environment (on Mac)\n",
    "    \n",
    "      ```bash\n",
    "      source <virtual_env_path>/bin/activate\n",
    "      ```\n",
    "      \n",
    "      Note that you should see **(your_virtualenv_name)** before the prompt when the virtual environment is successfully activated. Here we use **(virtualenv)** as an example.\n",
    "      \n",
    "    - Install ipython kernel to the virtualenv\n",
    "    \n",
    "      ```bash\n",
    "      (virtualenv) pip install ipykernel  # pip3 install ipykernel for python3\n",
    "      ``` \n",
    "      \n",
    "    - Create your kernel\n",
    "    \n",
    "      ```bash\n",
    "      (virtualenv) python -m ipykernel install --user --name=<your_kernel_name>\n",
    "      ```\n",
    "      \n",
    "    - Lauch Jupyter and then you can see the newly added kernel\n",
    "    \n",
    "      ```bash\n",
    "      (virtualenv) jupyter notebook\n",
    "      ```\n",
    "      \n",
    "- Tensorflow tutorial\n",
    "    - Official tutorial: https://www.tensorflow.org/get_started/\n",
    "    - Vedios about tensorflow (Chinese): https://morvanzhou.github.io/tutorials/machine-learning/tensorflow/\n",
    "    \n",
    "    \n",
    "- Tensorflow validation (hello world)"
   ]
  },
  {
   "cell_type": "code",
   "execution_count": 1,
   "metadata": {},
   "outputs": [
    {
     "name": "stdout",
     "output_type": "stream",
     "text": [
      "Hello, Tensorflow\n"
     ]
    }
   ],
   "source": [
    "import tensorflow as tf\n",
    "hello = tf.constant('Hello, Tensorflow')\n",
    "sess = tf.Session()\n",
    "print(sess.run(hello))"
   ]
  },
  {
   "cell_type": "markdown",
   "metadata": {},
   "source": [
    "- slim: https://github.com/tensorflow/tensorflow/tree/master/tensorflow/contrib/slim\n",
    "- pre-trained model https://github.com/tensorflow/models/tree/master/slim#Pretrained\n",
    "- GAN https://www.youtube.com/watch?v=0CKeqXl5IY0"
   ]
  }
 ],
 "metadata": {
  "kernelspec": {
   "display_name": "tf_kernel",
   "language": "python",
   "name": "tf_kernel"
  },
  "language_info": {
   "codemirror_mode": {
    "name": "ipython",
    "version": 2
   },
   "file_extension": ".py",
   "mimetype": "text/x-python",
   "name": "python",
   "nbconvert_exporter": "python",
   "pygments_lexer": "ipython2",
   "version": "2.7.13"
  }
 },
 "nbformat": 4,
 "nbformat_minor": 2
}
